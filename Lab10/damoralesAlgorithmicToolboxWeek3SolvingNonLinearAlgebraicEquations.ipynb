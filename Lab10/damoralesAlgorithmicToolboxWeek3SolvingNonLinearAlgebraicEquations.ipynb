{
  "nbformat": 4,
  "nbformat_minor": 0,
  "metadata": {
    "kernelspec": {
      "display_name": "Python 3",
      "language": "python",
      "name": "python3"
    },
    "language_info": {
      "codemirror_mode": {
        "name": "ipython",
        "version": 3
      },
      "file_extension": ".py",
      "mimetype": "text/x-python",
      "name": "python",
      "nbconvert_exporter": "python",
      "pygments_lexer": "ipython3",
      "version": "3.5.2"
    },
    "colab": {
      "provenance": [],
      "include_colab_link": true
    }
  },
  "cells": [
    {
      "cell_type": "markdown",
      "metadata": {
        "id": "view-in-github",
        "colab_type": "text"
      },
      "source": [
        "<a href=\"https://colab.research.google.com/github/damoralesr/MetNumUN2022II/blob/main/Lab10/damoralesAlgorithmicToolboxWeek3SolvingNonLinearAlgebraicEquations.ipynb\" target=\"_parent\"><img src=\"https://colab.research.google.com/assets/colab-badge.svg\" alt=\"Open In Colab\"/></a>"
      ]
    },
    {
      "cell_type": "markdown",
      "metadata": {
        "id": "h2TxjE6ST95B"
      },
      "source": [
        "# Part I. Root-finding. Newton's iteration."
      ]
    },
    {
      "cell_type": "markdown",
      "metadata": {
        "id": "_qFXBbLXT95F"
      },
      "source": [
        "Write a function which performs Newton's iteration for a given function $f(x)$ with known derivative $f'(x)$. Your function should find the root of $f(x)$ with a predefined absolute accuracy $\\epsilon$. "
      ]
    },
    {
      "cell_type": "code",
      "metadata": {
        "collapsed": true,
        "id": "chRy1mRpT95F"
      },
      "source": [
        "def newton_iteration(f, fder, x0, eps=1e-5, maxiter=1000):\n",
        "\n",
        "    cur = x0 - f(x0)/fder(x0)\n",
        "    prev = x0\n",
        "    \n",
        "    for _ in range(maxiter):\n",
        "        if(abs(cur-prev)<=eps):\n",
        "            break\n",
        "        prev = cur\n",
        "        cur = cur - f(cur)/fder(cur)\n",
        "    \n",
        "    return cur"
      ],
      "execution_count": null,
      "outputs": []
    },
    {
      "cell_type": "markdown",
      "metadata": {
        "id": "qGsOVPqwT95G"
      },
      "source": [
        "### Test I.1 \n",
        "\n",
        "Test your implementation on a simple example, $f(x) = x^2 - 1$ or similar. (20% of the total grade)"
      ]
    },
    {
      "cell_type": "code",
      "metadata": {
        "collapsed": true,
        "id": "ggan1StnT95H"
      },
      "source": [
        "# ... ENTER YOUR CODE HERE ...\n",
        "import numpy as np\n",
        "from numpy.testing import assert_allclose\n",
        "f = lambda x: (x+1)*(x-1)\n",
        "fd = lambda x: 2*x\n",
        "\n",
        "rndm = np.random.RandomState(1234)\n",
        "a = rndm.uniform(0, 10, size = (2,10))\n",
        "\n",
        "for x0 in a[0]:\n",
        "    assert_allclose(1, newton_iteration(f, fd, x0))\n",
        "\n",
        "for x0 in a[1]:\n",
        "    assert_allclose(-1, newton_iteration(f, fd, -x0))"
      ],
      "execution_count": null,
      "outputs": []
    },
    {
      "cell_type": "markdown",
      "metadata": {
        "id": "wzkKQBL7T95H"
      },
      "source": [
        "### Test I.2\n",
        "\n",
        "Now consider a function which has a multiple root. Take $f(x) = (x^2 - 1)^2$ as an example. Implement a modified Newton's iteraion,\n",
        "\n",
        "$$\n",
        "x_{n+1} = x_{n} - m \\frac{f(x_n)}{f'(x_n)}\n",
        "$$\n",
        "\n",
        "and vary $m= 1, 2, 3, 4, 5$. Check the number of iterations required for convergence within a fixed $\\epsilon$. Are your observations consistent with the expectation that the convergence is quadratic is $m$ equals the multiplicity of the root, and is linear otherwise? (40% of the total grade)"
      ]
    },
    {
      "cell_type": "code",
      "metadata": {
        "collapsed": true,
        "id": "OIx5yP-9T95I"
      },
      "source": [
        "# ... ENTER YOUR CODE HERE ...\n",
        "def modified_newton(f, fder, x0, m=1, eps=1e-5, maxiter=1000):\n",
        "    cur = x0 - m*f(x0)/fder(x0)\n",
        "    prev = x0\n",
        "    \n",
        "    for _ in range(maxiter):\n",
        "        if(abs(cur-prev)<=eps):\n",
        "            break\n",
        "        prev = cur\n",
        "        cur = cur - m*f(cur)/fder(cur)\n",
        "    \n",
        "    return cur"
      ],
      "execution_count": null,
      "outputs": []
    },
    {
      "cell_type": "code",
      "source": [
        "def calc_iter(f, fder, x0, m=1, eps=1e-5, maxiter=2**20):\n",
        "    \n",
        "    cur = x0 - m*f(x0)/fder(x0)\n",
        "    prev = x0\n",
        "    num = 1\n",
        "    \n",
        "    while abs(cur-prev)>eps and num<maxiter:\n",
        "        prev = cur\n",
        "        cur = cur - m*f(cur)/fder(cur)\n",
        "        num+=1\n",
        "    if num != maxiter:\n",
        "        return num\n",
        "    else:\n",
        "        return \"not converges\""
      ],
      "metadata": {
        "id": "nW27W95jxLcI"
      },
      "execution_count": null,
      "outputs": []
    },
    {
      "cell_type": "code",
      "source": [
        "f = lambda x: (x-1)**2*(x+1)**2\n",
        "fd = lambda x: 4*(x-1)*(x+1)*x\n",
        "\n",
        "rndm = np.random.RandomState(1234)\n",
        "a = rndm.uniform(0, 10, size = (2,10))\n",
        "\n",
        "for x0 in a[0]:\n",
        "    assert_allclose(1, modified_newton(f, fd, x0, 2))\n",
        "\n",
        "for x0 in a[1]:\n",
        "    assert_allclose(-1, modified_newton(f, fd, -x0, 2))"
      ],
      "metadata": {
        "id": "Re96sECrxMx-"
      },
      "execution_count": null,
      "outputs": []
    },
    {
      "cell_type": "code",
      "source": [
        "for m in range(1,6):\n",
        "    print(m, calc_iter(f, fd, a[1][1],m))"
      ],
      "metadata": {
        "colab": {
          "base_uri": "https://localhost:8080/"
        },
        "id": "Tieeh90yxOtY",
        "outputId": "6b844b0c-aeea-4300-c086-6033a738cfbc"
      },
      "execution_count": null,
      "outputs": [
        {
          "output_type": "stream",
          "name": "stdout",
          "text": [
            "1 22\n",
            "2 6\n",
            "3 18\n",
            "4 not converges\n",
            "5 435397\n"
          ]
        }
      ]
    },
    {
      "cell_type": "markdown",
      "metadata": {
        "id": "T9om2b1lT95I"
      },
      "source": [
        "# Part II. Fixed-point iteration"
      ]
    },
    {
      "cell_type": "markdown",
      "metadata": {
        "id": "urnNPsOKT95J"
      },
      "source": [
        "Consider the following equation:\n",
        "\n",
        "$$\n",
        "\\sqrt{x} = \\cos{x}\n",
        "$$\n",
        "\n",
        "Plot the left-hand side and right-hand side of this equation, and localize the root graphically. Estimate the location of the root by visual inspection of the plot.\n",
        "\n",
        "Write a function which finds the solution using fixed-point iteration up to a predefined accuracy $\\epsilon$. Compare the result to an estimate from a visual inspection.\n",
        "\n",
        "Next, rewrite the fixed-point problem in the form\n",
        "\n",
        "$$\n",
        "x = x - \\alpha f(x)\n",
        "$$\n",
        "\n",
        "where $\\alpha$ is the free parameter. Check the dependence of the number of iterations required for a given $\\epsilon$ on $\\alpha$. Compare your results to an expectation that the optimal value of $\\alpha$ is given by \n",
        "\n",
        "$$\n",
        "\\alpha = \\frac{2}{m + M}\n",
        "$$\n",
        "\n",
        "where $0 < m < |f'(x)| < M$ over the localization interval. (40% of the total grade)"
      ]
    },
    {
      "cell_type": "code",
      "metadata": {
        "collapsed": true,
        "id": "SOlb04UzT95K",
        "colab": {
          "base_uri": "https://localhost:8080/",
          "height": 303
        },
        "outputId": "645ee550-3d12-4968-c7e3-78ed2f461da1"
      },
      "source": [
        "# ... ENTER YOUR CODE HERE ...\n",
        "import matplotlib.pyplot as plt\n",
        "x = np.linspace(0.5, 8, 100)\n",
        "\n",
        "plt.plot(x, np.sqrt(x))\n",
        "plt.plot(x, np.cos(x))\n",
        "plt.legend([1, 2], labels=[\"raiz cuadrada\", \"coseno\"])\n",
        "\n",
        "plt.show()"
      ],
      "execution_count": null,
      "outputs": [
        {
          "output_type": "stream",
          "name": "stderr",
          "text": [
            "<ipython-input-29-49b3acac94ed>:7: UserWarning: You have mixed positional and keyword arguments, some input may be discarded.\n",
            "  plt.legend([1, 2], labels=[\"raiz cuadrada\", \"coseno\"])\n"
          ]
        },
        {
          "output_type": "display_data",
          "data": {
            "text/plain": [
              "<Figure size 432x288 with 1 Axes>"
            ],
            "image/png": "[encoded data removed]"
          },
          "metadata": {
            "needs_background": "light"
          }
        }
      ]
    },
    {
      "cell_type": "code",
      "source": [
        "plt.plot(np.linspace(0.5, 8, 100), 1 - (np.sqrt(np.linspace(0.5, 8, 100)) + np.sin(np.linspace(0.5, 1, 100))))\n",
        "plt.legend(labels=[\"derevative of x-f(x)\"])\n",
        "plt.show()"
      ],
      "metadata": {
        "colab": {
          "base_uri": "https://localhost:8080/",
          "height": 265
        },
        "id": "SUmBkjKMx69v",
        "outputId": "f00c85d8-5636-44e2-e2e9-21b2fd577a56"
      },
      "execution_count": null,
      "outputs": [
        {
          "output_type": "display_data",
          "data": {
            "text/plain": [
              "<Figure size 432x288 with 1 Axes>"
            ],
            "image/png": "[encoded data removed]"
          },
          "metadata": {
            "needs_background": "light"
          }
        }
      ]
    },
    {
      "cell_type": "markdown",
      "source": [
        "clearly seen that root is inside [0.5, 1] interval\n",
        "\n",
        "declare f(x)  as:\n",
        "$$\n",
        "\\sqrt{x} - \\cos{x}\n",
        "$$\n",
        " , then f'(x) = \n",
        " \n",
        " $$\n",
        "\\frac{1}{2\\sqrt{x}}+sinx \n",
        "$$\n",
        "\n",
        "m and M is 1 and 2"
      ],
      "metadata": {
        "id": "8VB_xV5Dy4LA"
      }
    },
    {
      "cell_type": "code",
      "source": [
        "#Firstly, solving fixed point problem\n",
        "def f_p_sol(eps = 1e-5, alpha = 1):\n",
        "    \n",
        "    prev = 1.5/2\n",
        "    cur = prev - alpha*(np.sqrt(prev) - np.cos(prev))\n",
        "    eps1 = abs(cur - prev)*10\n",
        "    num = 1\n",
        "    \n",
        "    while abs(cur - prev)>0.25*eps and cur>0:\n",
        "        prev = cur\n",
        "        cur = cur - alpha*(np.sqrt(cur) - np.cos(cur))\n",
        "        num+=1\n",
        "        \n",
        "    return cur, num"
      ],
      "metadata": {
        "id": "oMBT0VmGzzuG"
      },
      "execution_count": null,
      "outputs": []
    },
    {
      "cell_type": "code",
      "source": [
        "for i in [0.1, 0.2, 0.5, 1.0, 2.0, 2.5, 3.0]:\n",
        "    print(i, f_p_sol(alpha = i))"
      ],
      "metadata": {
        "colab": {
          "base_uri": "https://localhost:8080/"
        },
        "id": "4k6965rAz1yr",
        "outputId": "9741e369-bfbb-4380-d980-4fec85c46b17"
      },
      "execution_count": null,
      "outputs": [
        {
          "output_type": "stream",
          "name": "stdout",
          "text": [
            "0.1 (0.6417314556204897, 67)\n",
            "0.2 (0.6417220523014735, 34)\n",
            "0.5 (0.6417156095558334, 12)\n",
            "1.0 (0.6417142154160496, 9)\n",
            "2.0 (-0.11760568315221742, 5)\n",
            "2.5 (-0.3733245925712845, 3)\n",
            "3.0 (-1.643018936201507, 3)\n"
          ]
        }
      ]
    },
    {
      "cell_type": "code",
      "source": [
        "f_p_sol(alpha = 4.0/3)"
      ],
      "metadata": {
        "colab": {
          "base_uri": "https://localhost:8080/"
        },
        "id": "RmqE6uurz4K6",
        "outputId": "401e1ab4-ce31-4179-b262-b726acc19a71"
      },
      "execution_count": null,
      "outputs": [
        {
          "output_type": "execute_result",
          "data": {
            "text/plain": [
              "(0.6417150520055315, 26)"
            ]
          },
          "metadata": {},
          "execution_count": 40
        }
      ]
    },
    {
      "cell_type": "markdown",
      "metadata": {
        "id": "WaEqb4_ST95K"
      },
      "source": [
        "# Part III. Newton's fractal.\n",
        "\n",
        "(Not graded). \n",
        "\n",
        "Consider the equation\n",
        "\n",
        "$$\n",
        "x^3 = 1\n",
        "$$\n",
        "\n",
        "It has three solutions in the complex plane, $x_k = \\exp(i\\, 2\\pi k/ 3)$, $k = 0, 1, 2$.\n",
        "\n",
        "The Newton's iterations converge to one of these solutions, depending on the starting point in the complex plane (to converge to a complex-valued solution, the iteration needs a complex-valued starting point).\n",
        "\n",
        "Plot the \\emph{basins of attraction} of these roots on the complex plane of $x$ (i.e., on the plane $\\mathrm{Re}x$ -- $\\mathrm{Im}x$). To this end, make a series of calculations, varying the initial conditions on a grid of points. \n",
        "Color the grid in three colors, according to the root, to which iterations converged."
      ]
    },
    {
      "cell_type": "code",
      "metadata": {
        "collapsed": true,
        "id": "WkOcvzD5T95K"
      },
      "source": [],
      "execution_count": null,
      "outputs": []
    }
  ]
}