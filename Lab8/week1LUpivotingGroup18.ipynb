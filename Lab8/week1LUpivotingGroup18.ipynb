{
  "nbformat": 4,
  "nbformat_minor": 0,
  "metadata": {
    "colab": {
      "provenance": [],
      "include_colab_link": true
    },
    "kernelspec": {
      "name": "python3",
      "display_name": "Python 3"
    }
  },
  "cells": [
    {
      "cell_type": "markdown",
      "metadata": {
        "id": "view-in-github",
        "colab_type": "text"
      },
      "source": [
        "<a href=\"https://colab.research.google.com/github/damoralesr/MetNumUN2022II/blob/main/Lab8/week1LUpivotingGroup18.ipynb\" target=\"_parent\"><img src=\"https://colab.research.google.com/assets/colab-badge.svg\" alt=\"Open In Colab\"/></a>"
      ]
    },
    {
      "cell_type": "markdown",
      "source": [
        "**GRUPO 18**"
      ],
      "metadata": {
        "id": "2p5UKA0FHQvk"
      }
    },
    {
      "cell_type": "markdown",
      "metadata": {
        "id": "OBc93xD1zMDD"
      },
      "source": [
        "# I. $LU$ factorization of a square matrix\n",
        "When we premultply $A$ by lower triangular elemetary matrices $\\Lambda_j$ it is trasfrommed in an  upper triangular matrix $U$\n",
        "\n",
        "$$  \\Lambda_{n-1}  \\ldots\\Lambda_2  \\Lambda_1 A  = U$$\n",
        "\n",
        "$$  A  = (\\Lambda_{n-1}  \\ldots\\Lambda_2  \\Lambda_2 )^{-1} U$$\n",
        "\n",
        "The inverse of a product of matrices is the revesre product of inverses\n",
        "$$  A  = (\\Lambda_1^{-1}  \\Lambda_2^{-1} \\ldots  \\Lambda_{n-1}^{-1}) U$$\n",
        "\n",
        "and inverse of a Lower Triangular Elemetary Matrix is minus the matrix $\\Lambda_j^{-1} = - \\Lambda_j$, so \n",
        "\n",
        "$$ A  =  (-\\Lambda_1) (-\\Lambda_2) \\ldots   (-\\Lambda_{n-1})  U$$\n",
        "\n",
        "So the $LU$ column pivot factorization is \n",
        "$$  A  = L U$$\n",
        "with\n",
        "$$ U = \\Lambda_{n-1}  \\ldots\\Lambda_2  \\Lambda_1 A  $$\n",
        "an upper triangular matrix\n",
        "$$ L  =  \\Lambda_1^{-1}  \\Lambda_2^{-1} \\ldots  \\Lambda_{n-1}^{-1} m = (-\\Lambda_1) (-\\Lambda_2) \\ldots   (-\\Lambda_{n-1})  $$\n",
        "an lower triangular matrix."
      ]
    },
    {
      "cell_type": "markdown",
      "metadata": {
        "id": "dmO1wEA5zVVS"
      },
      "source": [
        "Consider a simple naive implementation of the LU decomposition. \n",
        "\n",
        "Note that we're using the `numpy` arrays to represent matrices [do **not** use `np.matrix`]."
      ]
    },
    {
      "cell_type": "code",
      "metadata": {
        "id": "0jzv0-yyzDM2"
      },
      "source": [
        "import numpy as np\n",
        "\n",
        "def diy_lu(a):\n",
        "    \"\"\"Construct the LU decomposition of the input matrix.\n",
        "    \n",
        "    Naive LU decomposition: work column by column, accumulate elementary triangular matrices.\n",
        "    No pivoting.\n",
        "    \"\"\"\n",
        "    N = a.shape[0]\n",
        "    \n",
        "    u = a.copy()\n",
        "    L = np.eye(N)\n",
        "    for j in range(N-1):\n",
        "        lam = np.eye(N)\n",
        "        gamma = u[j+1:, j] / u[j, j]\n",
        "        lam[j+1:, j] = -gamma\n",
        "        u = lam @ u\n",
        "\n",
        "        lam[j+1:, j] = gamma\n",
        "        L = L @ lam\n",
        "    return L, u"
      ],
      "execution_count": null,
      "outputs": []
    },
    {
      "cell_type": "code",
      "metadata": {
        "colab": {
          "base_uri": "https://localhost:8080/"
        },
        "id": "yW-cZc_qzd0Z",
        "outputId": "eb3c98ce-454e-4be7-8bcf-6755032dadb7"
      },
      "source": [
        "# Now, generate a full rank matrix and test the naive implementation\n",
        "\n",
        "import numpy as np\n",
        "\n",
        "N = 8\n",
        "A = np.zeros((N, N), dtype=float)\n",
        "for i in range(N):\n",
        "    for j in range(N):\n",
        "        A[i, j] = 3. / (0.85*i*j + 1)\n",
        "\n",
        "np.linalg.matrix_rank(A)"
      ],
      "execution_count": null,
      "outputs": [
        {
          "output_type": "execute_result",
          "data": {
            "text/plain": [
              "8"
            ]
          },
          "metadata": {},
          "execution_count": 10
        }
      ]
    },
    {
      "cell_type": "code",
      "metadata": {
        "colab": {
          "base_uri": "https://localhost:8080/"
        },
        "id": "MJs7LATHzhZq",
        "outputId": "bcbe7706-f62f-4b59-bf08-400152e47ebc"
      },
      "source": [
        "np.round(A,3)"
      ],
      "execution_count": null,
      "outputs": [
        {
          "output_type": "execute_result",
          "data": {
            "text/plain": [
              "array([[3.   , 3.   , 3.   , 3.   , 3.   , 3.   , 3.   , 3.   ],\n",
              "       [3.   , 1.622, 1.111, 0.845, 0.682, 0.571, 0.492, 0.432],\n",
              "       [3.   , 1.111, 0.682, 0.492, 0.385, 0.316, 0.268, 0.233],\n",
              "       [3.   , 0.845, 0.492, 0.347, 0.268, 0.218, 0.184, 0.159],\n",
              "       [3.   , 0.682, 0.385, 0.268, 0.205, 0.167, 0.14 , 0.121],\n",
              "       [3.   , 0.571, 0.316, 0.218, 0.167, 0.135, 0.113, 0.098],\n",
              "       [3.   , 0.492, 0.268, 0.184, 0.14 , 0.113, 0.095, 0.082],\n",
              "       [3.   , 0.432, 0.233, 0.159, 0.121, 0.098, 0.082, 0.07 ]])"
            ]
          },
          "metadata": {},
          "execution_count": 11
        }
      ]
    },
    {
      "cell_type": "code",
      "metadata": {
        "colab": {
          "base_uri": "https://localhost:8080/"
        },
        "id": "Y21gOqQ8zsqp",
        "outputId": "9bf1acd9-dee0-4d11-b07c-436376a577c2"
      },
      "source": [
        "L, U = diy_lu(A)\n",
        "\n",
        "print(np.round(L,3), \"\\n\")\n",
        "print(np.round(U,3), \"\\n\")\n",
        "\n",
        "# Quick sanity check: L times U must equal the original matrix, up to floating-point errors.\n",
        "print(np.round(L@U - A,3))"
      ],
      "execution_count": null,
      "outputs": [
        {
          "output_type": "stream",
          "name": "stdout",
          "text": [
            "[[1.    0.    0.    0.    0.    0.    0.    0.   ]\n",
            " [1.    1.    0.    0.    0.    0.    0.    0.   ]\n",
            " [1.    1.37  1.    0.    0.    0.    0.    0.   ]\n",
            " [1.    1.563 1.646 1.    0.    0.    0.    0.   ]\n",
            " [1.    1.682 2.077 1.949 1.    0.    0.    0.   ]\n",
            " [1.    1.762 2.382 2.731 2.273 1.    0.    0.   ]\n",
            " [1.    1.82  2.608 3.364 3.532 2.609 1.    0.   ]\n",
            " [1.    1.863 2.783 3.879 4.687 4.475 2.953 1.   ]] \n",
            "\n",
            "[[ 3.000e+00  3.000e+00  3.000e+00  3.000e+00  3.000e+00  3.000e+00\n",
            "   3.000e+00  3.000e+00]\n",
            " [ 0.000e+00 -1.378e+00 -1.889e+00 -2.155e+00 -2.318e+00 -2.429e+00\n",
            "  -2.508e+00 -2.568e+00]\n",
            " [ 0.000e+00  0.000e+00  2.700e-01  4.450e-01  5.610e-01  6.440e-01\n",
            "   7.050e-01  7.520e-01]\n",
            " [ 0.000e+00 -0.000e+00  0.000e+00 -1.600e-02 -3.200e-02 -4.500e-02\n",
            "  -5.500e-02 -6.300e-02]\n",
            " [ 0.000e+00  0.000e+00  0.000e+00  0.000e+00  0.000e+00  1.000e-03\n",
            "   1.000e-03  2.000e-03]\n",
            " [ 0.000e+00 -0.000e+00  0.000e+00  0.000e+00 -0.000e+00 -0.000e+00\n",
            "  -0.000e+00 -0.000e+00]\n",
            " [ 0.000e+00  0.000e+00  0.000e+00  0.000e+00  0.000e+00  0.000e+00\n",
            "   0.000e+00  0.000e+00]\n",
            " [ 0.000e+00 -0.000e+00  0.000e+00  0.000e+00 -0.000e+00  0.000e+00\n",
            "   0.000e+00 -0.000e+00]] \n",
            "\n",
            "[[ 0.  0.  0.  0.  0.  0.  0.  0.]\n",
            " [ 0.  0.  0.  0. -0. -0.  0.  0.]\n",
            " [ 0.  0.  0. -0.  0.  0. -0.  0.]\n",
            " [ 0.  0.  0. -0. -0. -0. -0.  0.]\n",
            " [ 0. -0.  0.  0. -0.  0.  0. -0.]\n",
            " [ 0. -0.  0.  0. -0.  0. -0.  0.]\n",
            " [ 0.  0.  0. -0.  0.  0. -0.  0.]\n",
            " [ 0.  0.  0. -0.  0. -0. -0. -0.]]\n"
          ]
        }
      ]
    },
    {
      "cell_type": "markdown",
      "metadata": {
        "id": "oSvHYsWuza06"
      },
      "source": [
        "# II. The need for pivoting"
      ]
    },
    {
      "cell_type": "markdown",
      "metadata": {
        "id": "B6z9Gausz4lS"
      },
      "source": [
        "Let's tweak the matrix a little bit, we only change a single element:"
      ]
    },
    {
      "cell_type": "code",
      "metadata": {
        "id": "tkGx4QSTzxOo"
      },
      "source": [
        "A1 = A.copy()\n",
        "A1[1, 1] = 3"
      ],
      "execution_count": null,
      "outputs": []
    },
    {
      "cell_type": "code",
      "source": [
        "np.round(A1,3)"
      ],
      "metadata": {
        "colab": {
          "base_uri": "https://localhost:8080/"
        },
        "id": "TRC3nCQCkISv",
        "outputId": "65dfdbf4-d50c-4b16-ad50-1f8aceb30537"
      },
      "execution_count": null,
      "outputs": [
        {
          "output_type": "execute_result",
          "data": {
            "text/plain": [
              "array([[3.   , 3.   , 3.   , 3.   , 3.   , 3.   , 3.   , 3.   ],\n",
              "       [3.   , 3.   , 1.111, 0.845, 0.682, 0.571, 0.492, 0.432],\n",
              "       [3.   , 1.111, 0.682, 0.492, 0.385, 0.316, 0.268, 0.233],\n",
              "       [3.   , 0.845, 0.492, 0.347, 0.268, 0.218, 0.184, 0.159],\n",
              "       [3.   , 0.682, 0.385, 0.268, 0.205, 0.167, 0.14 , 0.121],\n",
              "       [3.   , 0.571, 0.316, 0.218, 0.167, 0.135, 0.113, 0.098],\n",
              "       [3.   , 0.492, 0.268, 0.184, 0.14 , 0.113, 0.095, 0.082],\n",
              "       [3.   , 0.432, 0.233, 0.159, 0.121, 0.098, 0.082, 0.07 ]])"
            ]
          },
          "metadata": {},
          "execution_count": 14
        }
      ]
    },
    {
      "cell_type": "code",
      "metadata": {
        "colab": {
          "base_uri": "https://localhost:8080/"
        },
        "id": "dotDoRQ0jT71",
        "outputId": "bc137ddc-196a-4b48-a47c-669927454e15"
      },
      "source": [
        "np.linalg.matrix_rank(A1)"
      ],
      "execution_count": null,
      "outputs": [
        {
          "output_type": "execute_result",
          "data": {
            "text/plain": [
              "8"
            ]
          },
          "metadata": {},
          "execution_count": 15
        }
      ]
    },
    {
      "cell_type": "code",
      "metadata": {
        "colab": {
          "base_uri": "https://localhost:8080/"
        },
        "id": "NfvRXF3l0Czz",
        "outputId": "c9ed9bfb-fa3d-4d16-de31-944d83f80111"
      },
      "source": [
        "L, U= diy_lu(A1)\n",
        "\n",
        "print(L, U)"
      ],
      "execution_count": null,
      "outputs": [
        {
          "output_type": "stream",
          "name": "stdout",
          "text": [
            "[[nan nan nan nan nan nan nan nan]\n",
            " [nan nan nan nan nan nan nan nan]\n",
            " [nan nan nan nan nan nan nan nan]\n",
            " [nan nan nan nan nan nan nan nan]\n",
            " [nan nan nan nan nan nan nan nan]\n",
            " [nan nan nan nan nan nan nan nan]\n",
            " [nan nan nan nan nan nan nan nan]\n",
            " [nan nan nan nan nan nan nan nan]] [[nan nan nan nan nan nan nan nan]\n",
            " [nan nan nan nan nan nan nan nan]\n",
            " [nan nan nan nan nan nan nan nan]\n",
            " [nan nan nan nan nan nan nan nan]\n",
            " [nan nan nan nan nan nan nan nan]\n",
            " [nan nan nan nan nan nan nan nan]\n",
            " [nan nan nan nan nan nan nan nan]\n",
            " [nan nan nan nan nan nan nan nan]]\n"
          ]
        },
        {
          "output_type": "stream",
          "name": "stderr",
          "text": [
            "<ipython-input-1-8918e3eddeb9>:15: RuntimeWarning: divide by zero encountered in true_divide\n",
            "  gamma = u[j+1:, j] / u[j, j]\n",
            "<ipython-input-1-8918e3eddeb9>:17: RuntimeWarning: invalid value encountered in matmul\n",
            "  u = lam @ u\n",
            "<ipython-input-1-8918e3eddeb9>:20: RuntimeWarning: invalid value encountered in matmul\n",
            "  L = L @ lam\n",
            "<ipython-input-1-8918e3eddeb9>:15: RuntimeWarning: invalid value encountered in true_divide\n",
            "  gamma = u[j+1:, j] / u[j, j]\n"
          ]
        }
      ]
    },
    {
      "cell_type": "markdown",
      "source": [
        "The LU decomposition from scipy.linalg.lu already implements pivoting other sophisticated controls \n",
        "\n",
        "https://docs.scipy.org/doc/scipy/reference/generated/scipy.linalg.lu.html\n",
        "\n",
        "$$A = P L U$$\n",
        "\n",
        "```python\n",
        "\n",
        " P ,  L,  U  = scipy.linalg.lu(a, permute_l=False, overwrite_a=False, check_finite=True)\n",
        "\n",
        "# Returns\n",
        "# (If permute_l == False)\n",
        "# P : Permutation matrix\n",
        "# L : Lower triangular or trapezoidal matrix with unit diagonal. K = min\n",
        "# U : Upper triangular or trapezoidal matrix\n",
        "```"
      ],
      "metadata": {
        "id": "1wOBYHGcyIRG"
      }
    },
    {
      "cell_type": "code",
      "source": [
        "from scipy import linalg\n",
        "P ,  L,  U = linalg.lu(A)\n",
        "\n",
        "print(\"P\\n\",P, \"\\n\")\n",
        "print(\"L\\n\",L, \"\\n\")\n",
        "print(\"U\\n\",np.round(U,3), \"\\n\")\n",
        "print(\"A= P@L@U\\n\", P@L@U, \"\\n\")\n",
        "print(\"A\\n\",A, \"\\n\")\n"
      ],
      "metadata": {
        "colab": {
          "base_uri": "https://localhost:8080/"
        },
        "id": "npXQN18nyHS_",
        "outputId": "4e051ac6-d918-4043-9513-1980e71fd475"
      },
      "execution_count": null,
      "outputs": [
        {
          "output_type": "stream",
          "name": "stdout",
          "text": [
            "P\n",
            " [[1. 0. 0. 0. 0. 0. 0. 0.]\n",
            " [0. 0. 1. 0. 0. 0. 0. 0.]\n",
            " [0. 0. 0. 1. 0. 0. 0. 0.]\n",
            " [0. 0. 0. 0. 0. 1. 0. 0.]\n",
            " [0. 0. 0. 0. 1. 0. 0. 0.]\n",
            " [0. 0. 0. 0. 0. 0. 0. 1.]\n",
            " [0. 0. 0. 0. 0. 0. 1. 0.]\n",
            " [0. 1. 0. 0. 0. 0. 0. 0.]] \n",
            "\n",
            "L\n",
            " [[ 1.          0.          0.          0.          0.          0.\n",
            "   0.          0.        ]\n",
            " [ 1.          1.          0.          0.          0.          0.\n",
            "   0.          0.        ]\n",
            " [ 1.          0.53667954  1.          0.          0.          0.\n",
            "   0.          0.        ]\n",
            " [ 1.          0.73544974  0.70075758  1.          0.          0.\n",
            "   0.          0.        ]\n",
            " [ 1.          0.9025974   0.29108392  0.67870879  1.          0.\n",
            "   0.          0.        ]\n",
            " [ 1.          0.83903421  0.46132533  0.92850281  0.89167088  1.\n",
            "   0.          0.        ]\n",
            " [ 1.          0.9765808   0.07311183  0.19522349  0.39248013 -0.45677246\n",
            "   1.          0.        ]\n",
            " [ 1.          0.94557823  0.16691729  0.42268872  0.75772008 -0.52514217\n",
            "   0.91395946  1.        ]] \n",
            "\n",
            "U\n",
            " [[ 3.000e+00  3.000e+00  3.000e+00  3.000e+00  3.000e+00  3.000e+00\n",
            "   3.000e+00  3.000e+00]\n",
            " [ 0.000e+00 -2.568e+00 -2.767e+00 -2.841e+00 -2.879e+00 -2.902e+00\n",
            "  -2.918e+00 -2.930e+00]\n",
            " [ 0.000e+00  0.000e+00 -4.040e-01 -6.300e-01 -7.730e-01 -8.710e-01\n",
            "  -9.420e-01 -9.960e-01]\n",
            " [ 0.000e+00  0.000e+00  0.000e+00  2.300e-02  4.400e-02  6.100e-02\n",
            "   7.400e-02  8.500e-02]\n",
            " [ 0.000e+00  0.000e+00  0.000e+00  0.000e+00 -1.000e-03 -1.000e-03\n",
            "  -2.000e-03 -3.000e-03]\n",
            " [ 0.000e+00  0.000e+00  0.000e+00  0.000e+00  0.000e+00 -0.000e+00\n",
            "  -0.000e+00 -0.000e+00]\n",
            " [ 0.000e+00  0.000e+00  0.000e+00  0.000e+00  0.000e+00  0.000e+00\n",
            "  -0.000e+00 -0.000e+00]\n",
            " [ 0.000e+00  0.000e+00  0.000e+00  0.000e+00  0.000e+00  0.000e+00\n",
            "   0.000e+00 -0.000e+00]] \n",
            "\n",
            "A= P@L@U\n",
            " [[3.         3.         3.         3.         3.         3.\n",
            "  3.         3.        ]\n",
            " [3.         1.62162162 1.11111111 0.84507042 0.68181818 0.57142857\n",
            "  0.49180328 0.43165468]\n",
            " [3.         1.11111111 0.68181818 0.49180328 0.38461538 0.31578947\n",
            "  0.26785714 0.23255814]\n",
            " [3.         0.84507042 0.49180328 0.34682081 0.26785714 0.21818182\n",
            "  0.18404908 0.15915119]\n",
            " [3.         0.68181818 0.38461538 0.26785714 0.20547945 0.16666667\n",
            "  0.14018692 0.12096774]\n",
            " [3.         0.57142857 0.31578947 0.21818182 0.16666667 0.13483146\n",
            "  0.11320755 0.09756098]\n",
            " [3.         0.49180328 0.26785714 0.18404908 0.14018692 0.11320755\n",
            "  0.09493671 0.08174387]\n",
            " [3.         0.43165468 0.23255814 0.15915119 0.12096774 0.09756098\n",
            "  0.08174387 0.07033998]] \n",
            "\n",
            "A\n",
            " [[3.         3.         3.         3.         3.         3.\n",
            "  3.         3.        ]\n",
            " [3.         1.62162162 1.11111111 0.84507042 0.68181818 0.57142857\n",
            "  0.49180328 0.43165468]\n",
            " [3.         1.11111111 0.68181818 0.49180328 0.38461538 0.31578947\n",
            "  0.26785714 0.23255814]\n",
            " [3.         0.84507042 0.49180328 0.34682081 0.26785714 0.21818182\n",
            "  0.18404908 0.15915119]\n",
            " [3.         0.68181818 0.38461538 0.26785714 0.20547945 0.16666667\n",
            "  0.14018692 0.12096774]\n",
            " [3.         0.57142857 0.31578947 0.21818182 0.16666667 0.13483146\n",
            "  0.11320755 0.09756098]\n",
            " [3.         0.49180328 0.26785714 0.18404908 0.14018692 0.11320755\n",
            "  0.09493671 0.08174387]\n",
            " [3.         0.43165468 0.23255814 0.15915119 0.12096774 0.09756098\n",
            "  0.08174387 0.07033998]] \n",
            "\n"
          ]
        }
      ]
    },
    {
      "cell_type": "code",
      "source": [
        "P ,  L,  U = linalg.lu(A1)\n",
        "\n",
        "print(\"P\\n\",P, \"\\n\")\n",
        "print(\"L\\n\",L, \"\\n\")\n",
        "print(\"U\\n\",np.round(U,3), \"\\n\")\n",
        "print(\"A= P@L@U\\n\", P@L@U, \"\\n\")\n",
        "print(\"A\\n\",A, \"\\n\")\n"
      ],
      "metadata": {
        "colab": {
          "base_uri": "https://localhost:8080/"
        },
        "id": "U31oKbCWzKXe",
        "outputId": "1013191d-588a-4185-db04-e0900b38fd9a"
      },
      "execution_count": null,
      "outputs": [
        {
          "output_type": "stream",
          "name": "stdout",
          "text": [
            "P\n",
            " [[1. 0. 0. 0. 0. 0. 0. 0.]\n",
            " [0. 0. 1. 0. 0. 0. 0. 0.]\n",
            " [0. 0. 0. 1. 0. 0. 0. 0.]\n",
            " [0. 0. 0. 0. 1. 0. 0. 0.]\n",
            " [0. 0. 0. 0. 0. 0. 1. 0.]\n",
            " [0. 0. 0. 0. 0. 1. 0. 0.]\n",
            " [0. 0. 0. 0. 0. 0. 0. 1.]\n",
            " [0. 1. 0. 0. 0. 0. 0. 0.]] \n",
            "\n",
            "L\n",
            " [[ 1.          0.          0.          0.          0.          0.\n",
            "   0.          0.        ]\n",
            " [ 1.          1.          0.          0.          0.          0.\n",
            "   0.          0.        ]\n",
            " [ 1.         -0.          1.          0.          0.          0.\n",
            "   0.          0.        ]\n",
            " [ 1.          0.73544974  0.14975335  1.          0.          0.\n",
            "   0.          0.        ]\n",
            " [ 1.          0.83903421  0.09858618  0.59429463  1.          0.\n",
            "   0.          0.        ]\n",
            " [ 1.          0.94557823  0.03567057  0.19447289  0.63178599  1.\n",
            "   0.          0.        ]\n",
            " [ 1.          0.9025974   0.06220524  0.35298006  0.92969579  0.9122376\n",
            "   1.          0.        ]\n",
            " [ 1.          0.9765808   0.01562415  0.08279253  0.30466678  0.60602007\n",
            "  -0.45086164  1.        ]] \n",
            "\n",
            "U\n",
            " [[ 3.000e+00  3.000e+00  3.000e+00  3.000e+00  3.000e+00  3.000e+00\n",
            "   3.000e+00  3.000e+00]\n",
            " [ 0.000e+00 -2.568e+00 -2.767e+00 -2.841e+00 -2.879e+00 -2.902e+00\n",
            "  -2.918e+00 -2.930e+00]\n",
            " [ 0.000e+00  0.000e+00 -1.889e+00 -2.155e+00 -2.318e+00 -2.429e+00\n",
            "  -2.508e+00 -2.568e+00]\n",
            " [ 0.000e+00  0.000e+00  0.000e+00 -9.600e-02 -1.510e-01 -1.860e-01\n",
            "  -2.100e-01 -2.280e-01]\n",
            " [ 0.000e+00  0.000e+00  0.000e+00  0.000e+00  2.000e-03  3.000e-03\n",
            "   5.000e-03  6.000e-03]\n",
            " [ 0.000e+00  0.000e+00  0.000e+00  0.000e+00  0.000e+00 -0.000e+00\n",
            "  -0.000e+00 -0.000e+00]\n",
            " [ 0.000e+00  0.000e+00  0.000e+00  0.000e+00  0.000e+00  0.000e+00\n",
            "  -0.000e+00 -0.000e+00]\n",
            " [ 0.000e+00  0.000e+00  0.000e+00  0.000e+00  0.000e+00  0.000e+00\n",
            "   0.000e+00 -0.000e+00]] \n",
            "\n",
            "A= P@L@U\n",
            " [[3.         3.         3.         3.         3.         3.\n",
            "  3.         3.        ]\n",
            " [3.         3.         1.11111111 0.84507042 0.68181818 0.57142857\n",
            "  0.49180328 0.43165468]\n",
            " [3.         1.11111111 0.68181818 0.49180328 0.38461538 0.31578947\n",
            "  0.26785714 0.23255814]\n",
            " [3.         0.84507042 0.49180328 0.34682081 0.26785714 0.21818182\n",
            "  0.18404908 0.15915119]\n",
            " [3.         0.68181818 0.38461538 0.26785714 0.20547945 0.16666667\n",
            "  0.14018692 0.12096774]\n",
            " [3.         0.57142857 0.31578947 0.21818182 0.16666667 0.13483146\n",
            "  0.11320755 0.09756098]\n",
            " [3.         0.49180328 0.26785714 0.18404908 0.14018692 0.11320755\n",
            "  0.09493671 0.08174387]\n",
            " [3.         0.43165468 0.23255814 0.15915119 0.12096774 0.09756098\n",
            "  0.08174387 0.07033998]] \n",
            "\n",
            "A\n",
            " [[3.         3.         3.         3.         3.         3.\n",
            "  3.         3.        ]\n",
            " [3.         1.62162162 1.11111111 0.84507042 0.68181818 0.57142857\n",
            "  0.49180328 0.43165468]\n",
            " [3.         1.11111111 0.68181818 0.49180328 0.38461538 0.31578947\n",
            "  0.26785714 0.23255814]\n",
            " [3.         0.84507042 0.49180328 0.34682081 0.26785714 0.21818182\n",
            "  0.18404908 0.15915119]\n",
            " [3.         0.68181818 0.38461538 0.26785714 0.20547945 0.16666667\n",
            "  0.14018692 0.12096774]\n",
            " [3.         0.57142857 0.31578947 0.21818182 0.16666667 0.13483146\n",
            "  0.11320755 0.09756098]\n",
            " [3.         0.49180328 0.26785714 0.18404908 0.14018692 0.11320755\n",
            "  0.09493671 0.08174387]\n",
            " [3.         0.43165468 0.23255814 0.15915119 0.12096774 0.09756098\n",
            "  0.08174387 0.07033998]] \n",
            "\n"
          ]
        }
      ]
    },
    {
      "cell_type": "markdown",
      "metadata": {
        "id": "OqWxeK450I58"
      },
      "source": [
        "### Test II.1\n",
        "\n",
        "For a naive LU decomposition to work, all leading minors of a matrix should be non-zero. Check if this requirement is satisfied for the two matrices `a` and `a1`.\n",
        "\n",
        "(20% of the grade)"
      ]
    },
    {
      "cell_type": "code",
      "metadata": {
        "colab": {
          "base_uri": "https://localhost:8080/"
        },
        "id": "qCf9-MUqN927",
        "outputId": "791d5431-1fe5-4cc8-9f1c-f7d5a3acc888"
      },
      "source": [
        "def leading_minors_test(A):\n",
        "    \"\"\"\n",
        "     Function to check all leading Minors of a Matrix not equal to 0\n",
        "    \"\"\"\n",
        "    # ... ENTER YOUR CODE HERE ...\n",
        "\n",
        "    for i in range(A.shape[0]):\n",
        "      # Submatrix generation of i dimension\n",
        "      subMatrixIDim = A[0:i,0:i]\n",
        "      if np.linalg.det(subMatrixIDim) == 0:\n",
        "        # Det of submatrix is 0\n",
        "        return False\n",
        "    return True\n",
        "\n",
        "leading_minors_test(A), leading_minors_test(A1)"
      ],
      "execution_count": null,
      "outputs": [
        {
          "output_type": "execute_result",
          "data": {
            "text/plain": [
              "(True, False)"
            ]
          },
          "metadata": {},
          "execution_count": 19
        }
      ]
    },
    {
      "cell_type": "markdown",
      "metadata": {
        "id": "Qs8AJkWd0XXQ"
      },
      "source": [
        "### Test II.2\n",
        "\n",
        "Modify the `diy_lu` routine to implement column pivoting. Keep track of pivots, you can either construct a permutation matrix, or a swap array (your choice).\n",
        "\n",
        "(40% of the grade)\n",
        "\n",
        "Implement a function to reconstruct the original matrix from a decompositon. Test your routines on the matrices `a` and `a1`.\n",
        "\n",
        "(40% of the grade)"
      ]
    },
    {
      "cell_type": "markdown",
      "metadata": {
        "id": "tUb6w3y60eyP"
      },
      "source": [
        "# 2. $LU$ factorization column pivoting and reconstruction\n",
        "When we premultply $A$ by elementary permutation matricex$P_j$( to find a good pivot) and then premultply by lower triangular elemetary matrices $\\Lambda_j$, $A$  it is transformed in an  upper triangular matrix $U$\n",
        "\n",
        "$$  \n",
        "(\\Lambda_{n-1} P_{n-1} \\ldots \\Lambda_2 P_2 \\Lambda_1 P_1)A  = U\n",
        "$$\n",
        "and \n",
        "$$  \n",
        "A  = (\\Lambda_{n-1} P_{n-1} \\ldots \\Lambda_2 P_2 \\Lambda_1 P_1)^{-1} U\n",
        "$$\n",
        "\n",
        "\n",
        "So the $LU$ column pivot factorization of $A$ is \n",
        "$$\n",
        "A = LU\n",
        "$$\n",
        "ith\n",
        "$$  \n",
        "U = (\\Lambda_{n-1} P_{n-1} \\ldots \\Lambda_2 P_2 \\Lambda_1 P_1) A\n",
        "$$\n",
        "$$\n",
        "\\begin{array}{ll}L  &=  (\\Lambda_{n-1} P_{n-1} \\ldots \\Lambda_2 P_2 \\Lambda_1 P_1)^{-1}\\\\\n",
        "&= P_1^{-1} \\Lambda_1^{-1} P_2^{-1} \\Lambda_2^{-1} \\ldots  P_{n-1}^{-1}\\\\\n",
        " &= P_1^{t} (-\\Lambda_1) P_2^{t} (-\\Lambda_2) \\ldots  P_{n-1}^{t} (-\\Lambda_{n-1})\n",
        "\\end{array}\n",
        "$$\n",
        "because the inverse a of a Lower Triangular Elemetary Matrix is minus the matrix $\\Lambda_i^{-1} = - \\Lambda_i$ and the inverse of a Permutation Matrix (in particular an elementary permutation matrix)  is its transpose [math.stackexchange](\n",
        "        https://math.stackexchange.com/questions/98549/the-transpose-of-a-permutation-matrix-is-its-inverse#:~:text=Taking%20the%20transpose%20of%20P,Pt%3DP%E2%88%921.)  $P_i^{-1}=P_i^{t}$.\n",
        "\n",
        "Note that \n",
        "$$\n",
        "L= P_1^{t} (-\\Lambda_1) P_2^{t} (-\\Lambda_2) \\ldots  P_{n-1}^{t} (-\\Lambda_{n-1})\n",
        "$$\n",
        "is not exactly a lower tiangular matrix but a row permutated lower tiangular matrix.\n",
        "\n",
        "\n",
        "\n"
      ]
    },
    {
      "cell_type": "markdown",
      "source": [
        "$$PA = LU$$"
      ],
      "metadata": {
        "id": "nV8IGs1Zrzu6"
      }
    },
    {
      "cell_type": "code",
      "metadata": {
        "id": "pCoZ5W-dOLPk"
      },
      "source": [
        "from math import fabs\n",
        "def diy_lu_column_pivot_reconstruct(A):\n",
        "    \"\"\"\n",
        "     Construct the LU decomposition of the input matrix.\n",
        "     LU decomposition with pivot: work column by column, accumulate elementary triangular matrices L @ np.transpose(Pj) .\n",
        "    \"\"\"\n",
        "    # ... ENTER YOUR CODE HERE ...\n",
        "\n",
        "    # Tamaño n\n",
        "    N = A.shape[0]  \n",
        "    # Copia en u\n",
        "    u = A.copy()\n",
        "    # Dos identidades de nxn\n",
        "    L = np.eye(N) \n",
        "    P = np.eye(N)  \n",
        "\n",
        "    for j in range(N-1):\n",
        "        # Inicializar pivote\n",
        "        pivotValue = 0\n",
        "        pivotIndex = -1\n",
        "        # Pivotear en u por fila\n",
        "        for row in range(j, len(u)):\n",
        "            # si el valor absoluto es mayor que el pivote actual actualizar pivote\n",
        "            if fabs(u[row][j]) > pivotValue:     \n",
        "                pivotValue = fabs(u[row][j])\n",
        "                pivotIndex = row\n",
        "        \n",
        "        if pivotValue != 0:\n",
        "            # Copias\n",
        "            u_copy = u.copy()\n",
        "            L_copy = L.copy()\n",
        "            # Identidad y copia para permutar\n",
        "            P_temp = np.eye(N)\n",
        "            P_copy = P_temp.copy()\n",
        "            # Reemplazar por pivote en las matrices l, u, p\n",
        "            L[j, :j], L[pivotIndex, :j] = L_copy[pivotIndex, :j], L_copy[j, :j]\n",
        "            u[j], u[pivotIndex] = u_copy[pivotIndex], u_copy[j]\n",
        "            P_temp[j], P_temp[pivotIndex] = P_copy[pivotIndex], P_copy[j]\n",
        "            # Multiplicar p por la identidad temporal permutada\n",
        "            P = P@P_temp\n",
        "\n",
        "        # Identidad \n",
        "        lam = np.eye(N)\n",
        "        # Valor gamma \n",
        "        gamma = u[j+1:, j] / u[j, j] \n",
        "        # Valor -gamma en identidad\n",
        "        lam[j+1:, j] = -gamma\n",
        "        # Multiplicar u por identidad con valor -gamma\n",
        "        u = lam @ u  \n",
        "        # Valor gamma en identidad                   \n",
        "        lam[j+1:, j] = gamma\n",
        "        # Multiplicar l por identidad con valor -gamma\n",
        "        L = L @ lam\n",
        "\n",
        "    return  P, L , u"
      ],
      "execution_count": null,
      "outputs": []
    },
    {
      "cell_type": "code",
      "metadata": {
        "colab": {
          "base_uri": "https://localhost:8080/"
        },
        "id": "fhVlk2aj1Ux5",
        "outputId": "c1d697a1-522d-4dcb-e0a7-4ebeb2ab73e5"
      },
      "source": [
        "A = np.array([[4,9,1], [15,7,0], [19,5,2]])\n",
        "\n",
        "P, L, U, = diy_lu_column_pivot_reconstruct(A)\n",
        "\n",
        "print(\"P\\n\",P, \"\\n\")\n",
        "print(\"L\\n\",L, \"\\n\")\n",
        "print(\"U\\n\",U, \"\\n\")\n",
        "print(\"A= P@L@U\\n\", P@L@U, \"\\n\")\n",
        "print(\"A\\n\",A, \"\\n\")\n",
        "\n",
        "# Quick sanity check: L times U must equal the original matrix, up to floating-point errors.\n",
        "print(\"L@u - A\\n\",np.round(P@L@U-A,3), \"\\n\")"
      ],
      "execution_count": null,
      "outputs": [
        {
          "output_type": "stream",
          "name": "stdout",
          "text": [
            "P\n",
            " [[0. 1. 0.]\n",
            " [0. 0. 1.]\n",
            " [1. 0. 0.]] \n",
            "\n",
            "L\n",
            " [[1.         0.         0.        ]\n",
            " [0.21052632 1.         0.        ]\n",
            " [0.78947368 0.38410596 1.        ]] \n",
            "\n",
            "U\n",
            " [[19.          5.          2.        ]\n",
            " [ 0.          7.94736842  0.57894737]\n",
            " [ 0.          0.         -1.8013245 ]] \n",
            "\n",
            "A= P@L@U\n",
            " [[ 4.  9.  1.]\n",
            " [15.  7.  0.]\n",
            " [19.  5.  2.]] \n",
            "\n",
            "A\n",
            " [[ 4  9  1]\n",
            " [15  7  0]\n",
            " [19  5  2]] \n",
            "\n",
            "L@u - A\n",
            " [[0. 0. 0.]\n",
            " [0. 0. 0.]\n",
            " [0. 0. 0.]] \n",
            "\n"
          ]
        }
      ]
    },
    {
      "cell_type": "code",
      "source": [
        "from scipy import linalg\n",
        "\n",
        "A = np.array([[4,9,1], [15,7,0], [19,5,2]])\n",
        "\n",
        "P,L,U = linalg.lu(A)\n",
        "\n",
        "print(\"P\\n\",P, \"\\n\")\n",
        "print(\"L\\n\",L, \"\\n\")\n",
        "print(\"U\\n\",U, \"\\n\")\n",
        "print(\"A= P@L@U\\n\", P@L@U, \"\\n\")\n",
        "print(\"A\\n\",A, \"\\n\")\n",
        "\n",
        "# Quick sanity check: L times U must equal the original matrix, up to floating-point errors.\n",
        "print(\"L@u - A\\n\",np.round(P@L@U-A,3), \"\\n\")"
      ],
      "metadata": {
        "colab": {
          "base_uri": "https://localhost:8080/"
        },
        "id": "KY0N7EG_xAaP",
        "outputId": "a7ddab10-3809-4376-eb5f-894af504480c"
      },
      "execution_count": null,
      "outputs": [
        {
          "output_type": "stream",
          "name": "stdout",
          "text": [
            "P\n",
            " [[0. 1. 0.]\n",
            " [0. 0. 1.]\n",
            " [1. 0. 0.]] \n",
            "\n",
            "L\n",
            " [[1.         0.         0.        ]\n",
            " [0.21052632 1.         0.        ]\n",
            " [0.78947368 0.38410596 1.        ]] \n",
            "\n",
            "U\n",
            " [[19.          5.          2.        ]\n",
            " [ 0.          7.94736842  0.57894737]\n",
            " [ 0.          0.         -1.8013245 ]] \n",
            "\n",
            "A= P@L@U\n",
            " [[ 4.  9.  1.]\n",
            " [15.  7.  0.]\n",
            " [19.  5.  2.]] \n",
            "\n",
            "A\n",
            " [[ 4  9  1]\n",
            " [15  7  0]\n",
            " [19  5  2]] \n",
            "\n",
            "L@u - A\n",
            " [[0. 0. 0.]\n",
            " [0. 0. 0.]\n",
            " [0. 0. 0.]] \n",
            "\n"
          ]
        }
      ]
    },
    {
      "cell_type": "code",
      "metadata": {
        "colab": {
          "base_uri": "https://localhost:8080/"
        },
        "id": "XIpfRzl21IDH",
        "outputId": "261b7a02-d721-4ad9-cb52-6fd05b045a8c"
      },
      "source": [
        "N = 8\n",
        "A = np.zeros((N, N), dtype=float)\n",
        "for i in range(N):\n",
        "    for j in range(N):\n",
        "        A[i, j] = 3. / (0.85*i*j + 1)\n",
        "\n",
        "P, L, U, = diy_lu_column_pivot_reconstruct(A)\n",
        "\n",
        "print(\"P\\n\",P, \"\\n\")\n",
        "print(\"L\\n\",L, \"\\n\")\n",
        "print(\"U\\n\",U, \"\\n\")\n",
        "print(\"A= P@L@U\\n\", P@L@U, \"\\n\")\n",
        "print(\"A\\n\",A, \"\\n\")\n",
        "\n",
        "# Quick sanity check: L times U must equal the original matrix, up to floating-point errors.\n",
        "print(\"L@u - A\\n\",np.round(P@L@U-A,3), \"\\n\")\n",
        "\n",
        "\n"
      ],
      "execution_count": null,
      "outputs": [
        {
          "output_type": "stream",
          "name": "stdout",
          "text": [
            "P\n",
            " [[1. 0. 0. 0. 0. 0. 0. 0.]\n",
            " [0. 0. 1. 0. 0. 0. 0. 0.]\n",
            " [0. 0. 0. 1. 0. 0. 0. 0.]\n",
            " [0. 0. 0. 0. 0. 1. 0. 0.]\n",
            " [0. 0. 0. 0. 1. 0. 0. 0.]\n",
            " [0. 0. 0. 0. 0. 0. 0. 1.]\n",
            " [0. 0. 0. 0. 0. 0. 1. 0.]\n",
            " [0. 1. 0. 0. 0. 0. 0. 0.]] \n",
            "\n",
            "L\n",
            " [[ 1.          0.          0.          0.          0.          0.\n",
            "   0.          0.        ]\n",
            " [ 1.          1.          0.          0.          0.          0.\n",
            "   0.          0.        ]\n",
            " [ 1.          0.53667954  1.          0.          0.          0.\n",
            "   0.          0.        ]\n",
            " [ 1.          0.73544974  0.70075758  1.          0.          0.\n",
            "   0.          0.        ]\n",
            " [ 1.          0.9025974   0.29108392  0.67870879  1.          0.\n",
            "   0.          0.        ]\n",
            " [ 1.          0.83903421  0.46132533  0.92850281  0.89167088  1.\n",
            "   0.          0.        ]\n",
            " [ 1.          0.9765808   0.07311183  0.19522349  0.39248013 -0.45677246\n",
            "   1.          0.        ]\n",
            " [ 1.          0.94557823  0.16691729  0.42268872  0.75772008 -0.52514217\n",
            "   0.91395947  1.        ]] \n",
            "\n",
            "U\n",
            " [[ 3.00000000e+00  3.00000000e+00  3.00000000e+00  3.00000000e+00\n",
            "   3.00000000e+00  3.00000000e+00  3.00000000e+00  3.00000000e+00]\n",
            " [ 0.00000000e+00 -2.56834532e+00 -2.76744186e+00 -2.84084881e+00\n",
            "  -2.87903226e+00 -2.90243902e+00 -2.91825613e+00 -2.92966002e+00]\n",
            " [ 0.00000000e+00  0.00000000e+00 -4.03659473e-01 -6.30304156e-01\n",
            "  -7.73064120e-01 -8.70891798e-01 -9.42028373e-01 -9.96056740e-01]\n",
            " [ 0.00000000e+00 -2.22044605e-16  0.00000000e+00  2.27951943e-02\n",
            "   4.37294357e-02  6.06715112e-02  7.42213613e-02  8.51701350e-02]\n",
            " [ 0.00000000e+00  1.50703625e-16  1.38777878e-17  0.00000000e+00\n",
            "  -5.66530868e-04 -1.27510182e-03 -1.96806282e-03 -2.59835333e-03]\n",
            " [ 0.00000000e+00  7.17910048e-17 -1.23744193e-17  0.00000000e+00\n",
            "   0.00000000e+00 -4.81407465e-06 -1.25357985e-05 -2.14673661e-05]\n",
            " [ 0.00000000e+00  1.69922977e-17 -1.10990498e-17  0.00000000e+00\n",
            "   0.00000000e+00  0.00000000e+00 -3.36048769e-08 -9.91014673e-08]\n",
            " [ 0.00000000e+00  1.83479993e-18 -6.86972614e-18  0.00000000e+00\n",
            "   5.42101086e-20  0.00000000e+00  0.00000000e+00 -7.92309702e-11]] \n",
            "\n",
            "A= P@L@U\n",
            " [[3.         3.         3.         3.         3.         3.\n",
            "  3.         3.        ]\n",
            " [3.         1.62162162 1.11111111 0.84507042 0.68181818 0.57142857\n",
            "  0.49180328 0.43165468]\n",
            " [3.         1.11111111 0.68181818 0.49180328 0.38461538 0.31578947\n",
            "  0.26785714 0.23255814]\n",
            " [3.         0.84507042 0.49180328 0.34682081 0.26785714 0.21818182\n",
            "  0.18404908 0.15915119]\n",
            " [3.         0.68181818 0.38461538 0.26785714 0.20547945 0.16666667\n",
            "  0.14018692 0.12096774]\n",
            " [3.         0.57142857 0.31578947 0.21818182 0.16666667 0.13483146\n",
            "  0.11320755 0.09756098]\n",
            " [3.         0.49180328 0.26785714 0.18404908 0.14018692 0.11320755\n",
            "  0.09493671 0.08174387]\n",
            " [3.         0.43165468 0.23255814 0.15915119 0.12096774 0.09756098\n",
            "  0.08174387 0.07033998]] \n",
            "\n",
            "A\n",
            " [[3.         3.         3.         3.         3.         3.\n",
            "  3.         3.        ]\n",
            " [3.         1.62162162 1.11111111 0.84507042 0.68181818 0.57142857\n",
            "  0.49180328 0.43165468]\n",
            " [3.         1.11111111 0.68181818 0.49180328 0.38461538 0.31578947\n",
            "  0.26785714 0.23255814]\n",
            " [3.         0.84507042 0.49180328 0.34682081 0.26785714 0.21818182\n",
            "  0.18404908 0.15915119]\n",
            " [3.         0.68181818 0.38461538 0.26785714 0.20547945 0.16666667\n",
            "  0.14018692 0.12096774]\n",
            " [3.         0.57142857 0.31578947 0.21818182 0.16666667 0.13483146\n",
            "  0.11320755 0.09756098]\n",
            " [3.         0.49180328 0.26785714 0.18404908 0.14018692 0.11320755\n",
            "  0.09493671 0.08174387]\n",
            " [3.         0.43165468 0.23255814 0.15915119 0.12096774 0.09756098\n",
            "  0.08174387 0.07033998]] \n",
            "\n",
            "L@u - A\n",
            " [[ 0.  0.  0.  0.  0.  0.  0.  0.]\n",
            " [ 0.  0.  0.  0. -0. -0.  0.  0.]\n",
            " [ 0.  0.  0.  0. -0. -0. -0. -0.]\n",
            " [ 0.  0. -0.  0.  0. -0. -0.  0.]\n",
            " [ 0.  0.  0.  0. -0. -0. -0.  0.]\n",
            " [ 0. -0.  0.  0. -0. -0. -0.  0.]\n",
            " [ 0. -0. -0. -0. -0. -0.  0.  0.]\n",
            " [ 0.  0. -0. -0.  0.  0.  0. -0.]] \n",
            "\n"
          ]
        }
      ]
    },
    {
      "cell_type": "code",
      "source": [
        "from scipy import linalg\n",
        "\n",
        "P,L,U = linalg.lu(A)\n",
        "\n",
        "print(\"P\\n\",P, \"\\n\")\n",
        "print(\"L\\n\",L, \"\\n\")\n",
        "print(\"U\\n\",U, \"\\n\")\n",
        "print(\"A= P@L@U\\n\", P@L@U, \"\\n\")\n",
        "print(\"A\\n\",A, \"\\n\")\n",
        "\n",
        "# Quick sanity check: L times U must equal the original matrix, up to floating-point errors.\n",
        "print(\"L@u - A\\n\",np.round(P@L@U-A,3), \"\\n\")"
      ],
      "metadata": {
        "colab": {
          "base_uri": "https://localhost:8080/"
        },
        "id": "acLrGb5y4aZl",
        "outputId": "bee036dc-b181-4f9f-8704-bda8f81bd4d7"
      },
      "execution_count": null,
      "outputs": [
        {
          "output_type": "stream",
          "name": "stdout",
          "text": [
            "P\n",
            " [[1. 0. 0. 0. 0. 0. 0. 0.]\n",
            " [0. 0. 1. 0. 0. 0. 0. 0.]\n",
            " [0. 0. 0. 1. 0. 0. 0. 0.]\n",
            " [0. 0. 0. 0. 0. 1. 0. 0.]\n",
            " [0. 0. 0. 0. 1. 0. 0. 0.]\n",
            " [0. 0. 0. 0. 0. 0. 0. 1.]\n",
            " [0. 0. 0. 0. 0. 0. 1. 0.]\n",
            " [0. 1. 0. 0. 0. 0. 0. 0.]] \n",
            "\n",
            "L\n",
            " [[ 1.          0.          0.          0.          0.          0.\n",
            "   0.          0.        ]\n",
            " [ 1.          1.          0.          0.          0.          0.\n",
            "   0.          0.        ]\n",
            " [ 1.          0.53667954  1.          0.          0.          0.\n",
            "   0.          0.        ]\n",
            " [ 1.          0.73544974  0.70075758  1.          0.          0.\n",
            "   0.          0.        ]\n",
            " [ 1.          0.9025974   0.29108392  0.67870879  1.          0.\n",
            "   0.          0.        ]\n",
            " [ 1.          0.83903421  0.46132533  0.92850281  0.89167088  1.\n",
            "   0.          0.        ]\n",
            " [ 1.          0.9765808   0.07311183  0.19522349  0.39248013 -0.45677246\n",
            "   1.          0.        ]\n",
            " [ 1.          0.94557823  0.16691729  0.42268872  0.75772008 -0.52514217\n",
            "   0.91395946  1.        ]] \n",
            "\n",
            "U\n",
            " [[ 3.00000000e+00  3.00000000e+00  3.00000000e+00  3.00000000e+00\n",
            "   3.00000000e+00  3.00000000e+00  3.00000000e+00  3.00000000e+00]\n",
            " [ 0.00000000e+00 -2.56834532e+00 -2.76744186e+00 -2.84084881e+00\n",
            "  -2.87903226e+00 -2.90243902e+00 -2.91825613e+00 -2.92966002e+00]\n",
            " [ 0.00000000e+00  0.00000000e+00 -4.03659473e-01 -6.30304156e-01\n",
            "  -7.73064120e-01 -8.70891798e-01 -9.42028373e-01 -9.96056740e-01]\n",
            " [ 0.00000000e+00  0.00000000e+00  0.00000000e+00  2.27951943e-02\n",
            "   4.37294357e-02  6.06715112e-02  7.42213613e-02  8.51701350e-02]\n",
            " [ 0.00000000e+00  0.00000000e+00  0.00000000e+00  0.00000000e+00\n",
            "  -5.66530868e-04 -1.27510182e-03 -1.96806282e-03 -2.59835333e-03]\n",
            " [ 0.00000000e+00  0.00000000e+00  0.00000000e+00  0.00000000e+00\n",
            "   0.00000000e+00 -4.81407465e-06 -1.25357985e-05 -2.14673661e-05]\n",
            " [ 0.00000000e+00  0.00000000e+00  0.00000000e+00  0.00000000e+00\n",
            "   0.00000000e+00  0.00000000e+00 -3.36048778e-08 -9.91014689e-08]\n",
            " [ 0.00000000e+00  0.00000000e+00  0.00000000e+00  0.00000000e+00\n",
            "   0.00000000e+00  0.00000000e+00  0.00000000e+00 -7.92305666e-11]] \n",
            "\n",
            "A= P@L@U\n",
            " [[3.         3.         3.         3.         3.         3.\n",
            "  3.         3.        ]\n",
            " [3.         1.62162162 1.11111111 0.84507042 0.68181818 0.57142857\n",
            "  0.49180328 0.43165468]\n",
            " [3.         1.11111111 0.68181818 0.49180328 0.38461538 0.31578947\n",
            "  0.26785714 0.23255814]\n",
            " [3.         0.84507042 0.49180328 0.34682081 0.26785714 0.21818182\n",
            "  0.18404908 0.15915119]\n",
            " [3.         0.68181818 0.38461538 0.26785714 0.20547945 0.16666667\n",
            "  0.14018692 0.12096774]\n",
            " [3.         0.57142857 0.31578947 0.21818182 0.16666667 0.13483146\n",
            "  0.11320755 0.09756098]\n",
            " [3.         0.49180328 0.26785714 0.18404908 0.14018692 0.11320755\n",
            "  0.09493671 0.08174387]\n",
            " [3.         0.43165468 0.23255814 0.15915119 0.12096774 0.09756098\n",
            "  0.08174387 0.07033998]] \n",
            "\n",
            "A\n",
            " [[3.         3.         3.         3.         3.         3.\n",
            "  3.         3.        ]\n",
            " [3.         1.62162162 1.11111111 0.84507042 0.68181818 0.57142857\n",
            "  0.49180328 0.43165468]\n",
            " [3.         1.11111111 0.68181818 0.49180328 0.38461538 0.31578947\n",
            "  0.26785714 0.23255814]\n",
            " [3.         0.84507042 0.49180328 0.34682081 0.26785714 0.21818182\n",
            "  0.18404908 0.15915119]\n",
            " [3.         0.68181818 0.38461538 0.26785714 0.20547945 0.16666667\n",
            "  0.14018692 0.12096774]\n",
            " [3.         0.57142857 0.31578947 0.21818182 0.16666667 0.13483146\n",
            "  0.11320755 0.09756098]\n",
            " [3.         0.49180328 0.26785714 0.18404908 0.14018692 0.11320755\n",
            "  0.09493671 0.08174387]\n",
            " [3.         0.43165468 0.23255814 0.15915119 0.12096774 0.09756098\n",
            "  0.08174387 0.07033998]] \n",
            "\n",
            "L@u - A\n",
            " [[ 0.  0.  0.  0.  0.  0.  0.  0.]\n",
            " [ 0.  0.  0.  0.  0.  0.  0.  0.]\n",
            " [ 0. -0. -0.  0.  0.  0. -0. -0.]\n",
            " [ 0.  0. -0.  0.  0. -0. -0. -0.]\n",
            " [ 0.  0.  0.  0.  0. -0. -0.  0.]\n",
            " [ 0. -0.  0.  0.  0. -0.  0.  0.]\n",
            " [ 0.  0. -0.  0. -0. -0.  0. -0.]\n",
            " [ 0.  0. -0. -0.  0.  0.  0. -0.]] \n",
            "\n"
          ]
        }
      ]
    },
    {
      "cell_type": "code",
      "metadata": {
        "colab": {
          "base_uri": "https://localhost:8080/"
        },
        "id": "Ea5i2TSF1RPx",
        "outputId": "6229ee93-22ce-4051-fec4-7026d2b9038c"
      },
      "source": [
        "A[1, 1] = 3\n",
        "\n",
        "P, L, U, = diy_lu_column_pivot_reconstruct(A1)\n",
        "\n",
        "print(\"P\\n\",P, \"\\n\")\n",
        "print(\"L\\n\",L, \"\\n\")\n",
        "print(\"U\\n\",U, \"\\n\")\n",
        "print(\"A= P@L@U\\n\", P@L@U, \"\\n\")\n",
        "print(\"A\\n\",A, \"\\n\")\n",
        "\n",
        "# Quick sanity check: L times U must equal the original matrix, up to floating-point errors.\n",
        "print(\"L@u - A\\n\",np.round(P@L@U-A,3), \"\\n\")"
      ],
      "execution_count": null,
      "outputs": [
        {
          "output_type": "stream",
          "name": "stdout",
          "text": [
            "P\n",
            " [[1. 0. 0. 0. 0. 0. 0. 0.]\n",
            " [0. 0. 1. 0. 0. 0. 0. 0.]\n",
            " [0. 0. 0. 1. 0. 0. 0. 0.]\n",
            " [0. 0. 0. 0. 1. 0. 0. 0.]\n",
            " [0. 0. 0. 0. 0. 0. 1. 0.]\n",
            " [0. 0. 0. 0. 0. 1. 0. 0.]\n",
            " [0. 0. 0. 0. 0. 0. 0. 1.]\n",
            " [0. 1. 0. 0. 0. 0. 0. 0.]] \n",
            "\n",
            "L\n",
            " [[ 1.          0.          0.          0.          0.          0.\n",
            "   0.          0.        ]\n",
            " [ 1.          1.          0.          0.          0.          0.\n",
            "   0.          0.        ]\n",
            " [ 1.          0.          1.          0.          0.          0.\n",
            "   0.          0.        ]\n",
            " [ 1.          0.73544974  0.14975335  1.          0.          0.\n",
            "   0.          0.        ]\n",
            " [ 1.          0.83903421  0.09858618  0.59429463  1.          0.\n",
            "   0.          0.        ]\n",
            " [ 1.          0.94557823  0.03567057  0.19447289  0.63178599  1.\n",
            "   0.          0.        ]\n",
            " [ 1.          0.9025974   0.06220524  0.35298006  0.92969579  0.9122376\n",
            "   1.          0.        ]\n",
            " [ 1.          0.9765808   0.01562415  0.08279253  0.30466678  0.60602007\n",
            "  -0.45086163  1.        ]] \n",
            "\n",
            "U\n",
            " [[ 3.00000000e+00  3.00000000e+00  3.00000000e+00  3.00000000e+00\n",
            "   3.00000000e+00  3.00000000e+00  3.00000000e+00  3.00000000e+00]\n",
            " [ 0.00000000e+00 -2.56834532e+00 -2.76744186e+00 -2.84084881e+00\n",
            "  -2.87903226e+00 -2.90243902e+00 -2.91825613e+00 -2.92966002e+00]\n",
            " [ 0.00000000e+00  0.00000000e+00 -1.88888889e+00 -2.15492958e+00\n",
            "  -2.31818182e+00 -2.42857143e+00 -2.50819672e+00 -2.56834532e+00]\n",
            " [ 0.00000000e+00 -2.22044605e-16  0.00000000e+00 -9.61873005e-02\n",
            "  -1.50845616e-01 -1.85925813e-01 -2.10301303e-01 -2.28205862e-01]\n",
            " [ 0.00000000e+00  1.31959915e-16  0.00000000e+00  0.00000000e+00\n",
            "   1.65111333e-03  3.34572885e-03  4.82025985e-03  6.06103382e-03]\n",
            " [ 0.00000000e+00 -4.01887708e-17  0.00000000e+00  0.00000000e+00\n",
            "   0.00000000e+00 -1.31039255e-05 -3.16423503e-05 -5.13585840e-05]\n",
            " [ 0.00000000e+00 -7.64355170e-18  0.00000000e+00  0.00000000e+00\n",
            "   0.00000000e+00  0.00000000e+00 -5.33464228e-08 -1.49527649e-07]\n",
            " [ 0.00000000e+00 -9.11150246e-19  0.00000000e+00  0.00000000e+00\n",
            "   0.00000000e+00  0.00000000e+00  0.00000000e+00 -1.43277023e-10]] \n",
            "\n",
            "A= P@L@U\n",
            " [[3.         3.         3.         3.         3.         3.\n",
            "  3.         3.        ]\n",
            " [3.         3.         1.11111111 0.84507042 0.68181818 0.57142857\n",
            "  0.49180328 0.43165468]\n",
            " [3.         1.11111111 0.68181818 0.49180328 0.38461538 0.31578947\n",
            "  0.26785714 0.23255814]\n",
            " [3.         0.84507042 0.49180328 0.34682081 0.26785714 0.21818182\n",
            "  0.18404908 0.15915119]\n",
            " [3.         0.68181818 0.38461538 0.26785714 0.20547945 0.16666667\n",
            "  0.14018692 0.12096774]\n",
            " [3.         0.57142857 0.31578947 0.21818182 0.16666667 0.13483146\n",
            "  0.11320755 0.09756098]\n",
            " [3.         0.49180328 0.26785714 0.18404908 0.14018692 0.11320755\n",
            "  0.09493671 0.08174387]\n",
            " [3.         0.43165468 0.23255814 0.15915119 0.12096774 0.09756098\n",
            "  0.08174387 0.07033998]] \n",
            "\n",
            "A\n",
            " [[3.         3.         3.         3.         3.         3.\n",
            "  3.         3.        ]\n",
            " [3.         3.         1.11111111 0.84507042 0.68181818 0.57142857\n",
            "  0.49180328 0.43165468]\n",
            " [3.         1.11111111 0.68181818 0.49180328 0.38461538 0.31578947\n",
            "  0.26785714 0.23255814]\n",
            " [3.         0.84507042 0.49180328 0.34682081 0.26785714 0.21818182\n",
            "  0.18404908 0.15915119]\n",
            " [3.         0.68181818 0.38461538 0.26785714 0.20547945 0.16666667\n",
            "  0.14018692 0.12096774]\n",
            " [3.         0.57142857 0.31578947 0.21818182 0.16666667 0.13483146\n",
            "  0.11320755 0.09756098]\n",
            " [3.         0.49180328 0.26785714 0.18404908 0.14018692 0.11320755\n",
            "  0.09493671 0.08174387]\n",
            " [3.         0.43165468 0.23255814 0.15915119 0.12096774 0.09756098\n",
            "  0.08174387 0.07033998]] \n",
            "\n",
            "L@u - A\n",
            " [[ 0.  0.  0.  0.  0.  0.  0.  0.]\n",
            " [ 0.  0.  0.  0. -0. -0.  0.  0.]\n",
            " [ 0.  0.  0.  0. -0. -0. -0. -0.]\n",
            " [ 0.  0. -0.  0.  0. -0.  0.  0.]\n",
            " [ 0.  0.  0.  0.  0. -0. -0.  0.]\n",
            " [ 0.  0.  0.  0. -0. -0. -0.  0.]\n",
            " [ 0.  0. -0. -0. -0. -0.  0.  0.]\n",
            " [ 0.  0. -0. -0.  0.  0.  0. -0.]] \n",
            "\n"
          ]
        }
      ]
    },
    {
      "cell_type": "code",
      "source": [
        "from scipy import linalg\n",
        "\n",
        "P,L,U = linalg.lu(A)\n",
        "\n",
        "print(\"P\\n\",P, \"\\n\")\n",
        "print(\"L\\n\",L, \"\\n\")\n",
        "print(\"U\\n\",U, \"\\n\")\n",
        "print(\"A= P@L@U\\n\", P@L@U, \"\\n\")\n",
        "print(\"A\\n\",A, \"\\n\")\n",
        "\n",
        "# Quick sanity check: L times U must equal the original matrix, up to floating-point errors.\n",
        "print(\"L@u - A\\n\",np.round(P@L@U-A,3), \"\\n\")"
      ],
      "metadata": {
        "colab": {
          "base_uri": "https://localhost:8080/"
        },
        "id": "6odsHUNwqGzD",
        "outputId": "3d5a4d6d-a335-4f6b-e813-893175be878f"
      },
      "execution_count": null,
      "outputs": [
        {
          "output_type": "stream",
          "name": "stdout",
          "text": [
            "P\n",
            " [[1. 0. 0. 0. 0. 0. 0. 0.]\n",
            " [0. 0. 1. 0. 0. 0. 0. 0.]\n",
            " [0. 0. 0. 1. 0. 0. 0. 0.]\n",
            " [0. 0. 0. 0. 1. 0. 0. 0.]\n",
            " [0. 0. 0. 0. 0. 0. 1. 0.]\n",
            " [0. 0. 0. 0. 0. 1. 0. 0.]\n",
            " [0. 0. 0. 0. 0. 0. 0. 1.]\n",
            " [0. 1. 0. 0. 0. 0. 0. 0.]] \n",
            "\n",
            "L\n",
            " [[ 1.          0.          0.          0.          0.          0.\n",
            "   0.          0.        ]\n",
            " [ 1.          1.          0.          0.          0.          0.\n",
            "   0.          0.        ]\n",
            " [ 1.         -0.          1.          0.          0.          0.\n",
            "   0.          0.        ]\n",
            " [ 1.          0.73544974  0.14975335  1.          0.          0.\n",
            "   0.          0.        ]\n",
            " [ 1.          0.83903421  0.09858618  0.59429463  1.          0.\n",
            "   0.          0.        ]\n",
            " [ 1.          0.94557823  0.03567057  0.19447289  0.63178599  1.\n",
            "   0.          0.        ]\n",
            " [ 1.          0.9025974   0.06220524  0.35298006  0.92969579  0.9122376\n",
            "   1.          0.        ]\n",
            " [ 1.          0.9765808   0.01562415  0.08279253  0.30466678  0.60602007\n",
            "  -0.45086164  1.        ]] \n",
            "\n",
            "U\n",
            " [[ 3.00000000e+00  3.00000000e+00  3.00000000e+00  3.00000000e+00\n",
            "   3.00000000e+00  3.00000000e+00  3.00000000e+00  3.00000000e+00]\n",
            " [ 0.00000000e+00 -2.56834532e+00 -2.76744186e+00 -2.84084881e+00\n",
            "  -2.87903226e+00 -2.90243902e+00 -2.91825613e+00 -2.92966002e+00]\n",
            " [ 0.00000000e+00  0.00000000e+00 -1.88888889e+00 -2.15492958e+00\n",
            "  -2.31818182e+00 -2.42857143e+00 -2.50819672e+00 -2.56834532e+00]\n",
            " [ 0.00000000e+00  0.00000000e+00  0.00000000e+00 -9.61873005e-02\n",
            "  -1.50845616e-01 -1.85925813e-01 -2.10301303e-01 -2.28205862e-01]\n",
            " [ 0.00000000e+00  0.00000000e+00  0.00000000e+00  0.00000000e+00\n",
            "   1.65111333e-03  3.34572885e-03  4.82025985e-03  6.06103382e-03]\n",
            " [ 0.00000000e+00  0.00000000e+00  0.00000000e+00  0.00000000e+00\n",
            "   0.00000000e+00 -1.31039255e-05 -3.16423503e-05 -5.13585840e-05]\n",
            " [ 0.00000000e+00  0.00000000e+00  0.00000000e+00  0.00000000e+00\n",
            "   0.00000000e+00  0.00000000e+00 -5.33464230e-08 -1.49527650e-07]\n",
            " [ 0.00000000e+00  0.00000000e+00  0.00000000e+00  0.00000000e+00\n",
            "   0.00000000e+00  0.00000000e+00  0.00000000e+00 -1.43278209e-10]] \n",
            "\n",
            "A= P@L@U\n",
            " [[3.         3.         3.         3.         3.         3.\n",
            "  3.         3.        ]\n",
            " [3.         3.         1.11111111 0.84507042 0.68181818 0.57142857\n",
            "  0.49180328 0.43165468]\n",
            " [3.         1.11111111 0.68181818 0.49180328 0.38461538 0.31578947\n",
            "  0.26785714 0.23255814]\n",
            " [3.         0.84507042 0.49180328 0.34682081 0.26785714 0.21818182\n",
            "  0.18404908 0.15915119]\n",
            " [3.         0.68181818 0.38461538 0.26785714 0.20547945 0.16666667\n",
            "  0.14018692 0.12096774]\n",
            " [3.         0.57142857 0.31578947 0.21818182 0.16666667 0.13483146\n",
            "  0.11320755 0.09756098]\n",
            " [3.         0.49180328 0.26785714 0.18404908 0.14018692 0.11320755\n",
            "  0.09493671 0.08174387]\n",
            " [3.         0.43165468 0.23255814 0.15915119 0.12096774 0.09756098\n",
            "  0.08174387 0.07033998]] \n",
            "\n",
            "A\n",
            " [[3.         3.         3.         3.         3.         3.\n",
            "  3.         3.        ]\n",
            " [3.         3.         1.11111111 0.84507042 0.68181818 0.57142857\n",
            "  0.49180328 0.43165468]\n",
            " [3.         1.11111111 0.68181818 0.49180328 0.38461538 0.31578947\n",
            "  0.26785714 0.23255814]\n",
            " [3.         0.84507042 0.49180328 0.34682081 0.26785714 0.21818182\n",
            "  0.18404908 0.15915119]\n",
            " [3.         0.68181818 0.38461538 0.26785714 0.20547945 0.16666667\n",
            "  0.14018692 0.12096774]\n",
            " [3.         0.57142857 0.31578947 0.21818182 0.16666667 0.13483146\n",
            "  0.11320755 0.09756098]\n",
            " [3.         0.49180328 0.26785714 0.18404908 0.14018692 0.11320755\n",
            "  0.09493671 0.08174387]\n",
            " [3.         0.43165468 0.23255814 0.15915119 0.12096774 0.09756098\n",
            "  0.08174387 0.07033998]] \n",
            "\n",
            "L@u - A\n",
            " [[ 0.  0.  0.  0.  0.  0.  0.  0.]\n",
            " [ 0.  0.  0.  0. -0. -0.  0.  0.]\n",
            " [ 0. -0. -0.  0.  0.  0.  0. -0.]\n",
            " [ 0.  0. -0.  0.  0. -0.  0.  0.]\n",
            " [ 0.  0.  0.  0.  0. -0. -0. -0.]\n",
            " [ 0. -0.  0.  0.  0. -0. -0.  0.]\n",
            " [ 0.  0. -0.  0.  0. -0.  0.  0.]\n",
            " [ 0.  0. -0. -0.  0.  0.  0. -0.]] \n",
            "\n"
          ]
        }
      ]
    }
  ]
}